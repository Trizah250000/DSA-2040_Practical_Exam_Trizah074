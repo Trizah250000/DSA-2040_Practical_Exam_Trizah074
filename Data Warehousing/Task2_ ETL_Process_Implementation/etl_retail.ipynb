{
 "cells": [
  {
   "cell_type": "markdown",
   "id": "d05f0915",
   "metadata": {},
   "source": [
    "## ETL RETAIL DATA\n",
    "### 1. EXTRACTION\n",
    "\n",
    "#### Imports and Setting Seeds"
   ]
  },
  {
   "cell_type": "code",
   "execution_count": 10,
   "id": "277e18f7",
   "metadata": {},
   "outputs": [],
   "source": [
    "import pandas as pd       # For data manipulation and analysis\n",
    "import numpy as np        # For numerical operations\n",
    "from faker import Faker   # For generating realistic fake data\n",
    "import random             # For randomization\n",
    "from datetime import datetime\n",
    "\n",
    "\n",
    "\n",
    "\n",
    "# Fix the randomness so the output is the same every time  the script runs\n",
    "faker = Faker()\n",
    "random.seed(42)\n",
    "\n"
   ]
  },
  {
   "cell_type": "markdown",
   "id": "2a3b7b2c",
   "metadata": {},
   "source": [
    "#### Configuration and Product Catalog\n"
   ]
  },
  {
   "cell_type": "code",
   "execution_count": 11,
   "id": "adb67b2b",
   "metadata": {},
   "outputs": [],
   "source": [
    "NUM_RECORDS = 1000        # Total rows in dataset\n",
    "START_YEAR = 2023         # Start of date range\n",
    "END_YEAR = 2025           # End of date range\n",
    "\n",
    "\n",
    "products = {\n",
    "    \"Electronics\": [\n",
    "        (\"E101\", \"Bluetooth Speaker\"),\n",
    "        (\"E102\", \"Smartphone Tripod\"),\n",
    "        (\"E103\", \"Noise Cancelling Headphones\")\n",
    "    ],\n",
    "    \"Clothing\": [\n",
    "        (\"C201\", \"Denim Jacket\"),\n",
    "        (\"C202\", \"Sports Socks\"),\n",
    "        (\"C203\", \"Wool Scarf\")\n",
    "    ],\n",
    "    \"Home Decor\": [\n",
    "        (\"H301\", \"Ceramic Mug\"),\n",
    "        (\"H302\", \"Decorative Cushion\"),\n",
    "        (\"H303\", \"Floor Rug\")\n",
    "    ],\n",
    "    \"Toys\": [\n",
    "        (\"T401\", \"Lego Set\"),\n",
    "        (\"T402\", \"RC Car\"),\n",
    "        (\"T403\", \"Stuffed Bear\")\n",
    "    ]\n",
    "}\n"
   ]
  },
  {
   "cell_type": "markdown",
   "id": "81a94f41",
   "metadata": {},
   "source": [
    "#### Flatten Product List\n",
    "Purpose: Convert the nested products dictionary into a single flat list.\n",
    "\n",
    "Before: Products are stored by category → each category has multiple (code, name) pairs.\n",
    "\n",
    "After: A list where each entry is (ProductCode, ProductName, Category).\n",
    "\n",
    "Why? Makes it easier to randomly select any product without first choosing a category."
   ]
  },
  {
   "cell_type": "code",
   "execution_count": 12,
   "id": "8bfe863e",
   "metadata": {},
   "outputs": [],
   "source": [
    "product_list = [\n",
    "    (code, name, cat)\n",
    "    for cat, items in products.items()\n",
    "    for code, name in items\n",
    "]\n"
   ]
  },
  {
   "cell_type": "markdown",
   "id": "c4bc1928",
   "metadata": {},
   "source": [
    "#### Function to generate a random datetime between two years\n",
    "A small function is made to give a random date between two years. This keeps dates realistic."
   ]
  },
  {
   "cell_type": "code",
   "execution_count": 13,
   "id": "13eaf75e",
   "metadata": {},
   "outputs": [],
   "source": [
    "\n",
    "\n",
    "\n",
    "def random_date(start_year, end_year):\n",
    "    return faker.date_time_between(\n",
    "        start_date=datetime(start_year, 1, 1),   # Earliest date\n",
    "        end_date=datetime(end_year, 8, 12)       # Latest date\n",
    "    )\n",
    "\n",
    "    \n"
   ]
  },
  {
   "cell_type": "markdown",
   "id": "dd17daa1",
   "metadata": {},
   "source": [
    "#### Generate Synthetic Data\n",
    "We loop to create each record. Products, prices, and other details are chosen randomly. Some values are made wrong or missing on purpose to make the dataset messy.It Keeps data realistic but imperfect for transformation practice, mimicking real world messy data."
   ]
  },
  {
   "cell_type": "code",
   "execution_count": 14,
   "id": "ef28ed80",
   "metadata": {},
   "outputs": [],
   "source": [
    "data = []\n",
    "for _ in range(NUM_RECORDS):\n",
    "    pid, pname, category = random.choice(product_list)  # Random product\n",
    "    data.append({\n",
    "        \"InvoiceNo\": faker.uuid4(),  # Unique invoice ID\n",
    "        \"ProductID\": pid,\n",
    "        \"ProductName\": pname if random.random() > 0.02 else None,  # 2% missing\n",
    "        \"Category\": category,\n",
    "        \"Quantity\": random.choice([random.randint(1, 20), None]),  # Missing some\n",
    "        \"UnitPrice\": random.choice([round(random.uniform(5, 300), 2), -10.0]),  # Outlier\n",
    "        \"InvoiceDate\": random_date(START_YEAR, END_YEAR),  # Random date\n",
    "        \"CustomerID\": random.choice([random.randint(1, 100), None]),  # Missing IDs\n",
    "        \"Country\": random.choice([faker.country(), \"\"])  # Empty country\n",
    "    })\n"
   ]
  },
  {
   "cell_type": "markdown",
   "id": "070e496a",
   "metadata": {},
   "source": [
    "#### Create DataFrame"
   ]
  },
  {
   "cell_type": "code",
   "execution_count": 15,
   "id": "8239c123",
   "metadata": {},
   "outputs": [
    {
     "name": "stdout",
     "output_type": "stream",
     "text": [
      "                              InvoiceNo ProductID        ProductName  \\\n",
      "0  9ac549b0-4a3c-4b18-9b5a-ac557634a295      T402             RC Car   \n",
      "1  fe87fe9a-6a49-469f-b1a2-6bcc12843561      E101  Bluetooth Speaker   \n",
      "2  e1a899ee-3677-4c49-9fe3-c90bc61ad7c9      C201       Denim Jacket   \n",
      "3  e054706d-2329-4912-a7b0-44048c630fad      C202       Sports Socks   \n",
      "4  612dc3c3-9dbe-45ab-9b07-e316fcf43ec6      E101  Bluetooth Speaker   \n",
      "\n",
      "      Category  Quantity  UnitPrice         InvoiceDate  CustomerID Country  \n",
      "0         Toys       9.0      70.85 2023-01-08 10:34:34        87.0          \n",
      "1  Electronics       7.0     154.08 2024-06-20 13:55:55        72.0          \n",
      "2     Clothing       9.0     228.85 2024-05-05 02:13:01         NaN          \n",
      "3     Clothing      11.0      32.36 2024-08-13 12:12:22         NaN          \n",
      "4  Electronics      18.0     -10.00 2024-06-08 18:58:08         NaN          \n"
     ]
    }
   ],
   "source": [
    "# Convert list of dictionaries into a pandas DataFrame\n",
    "df = pd.DataFrame(data)\n",
    "\n",
    "# Display first 5 rows for quick verification\n",
    "print(df.head())\n"
   ]
  },
  {
   "cell_type": "code",
   "execution_count": 17,
   "id": "e1fca8f3",
   "metadata": {},
   "outputs": [
    {
     "name": "stdout",
     "output_type": "stream",
     "text": [
      "Synthetic retail data generated and saved to 'retail_data.csv'.\n"
     ]
    }
   ],
   "source": [
    "# Save to CSV\n",
    "df.to_csv(\"retail_data.csv\", index=False)\n",
    "print(\"Synthetic retail data generated and saved to 'retail_data.csv'.\")\n",
    "\n"
   ]
  },
  {
   "cell_type": "markdown",
   "id": "bb4c2c65",
   "metadata": {},
   "source": [
    "### TRANSFORMATION \n",
    "\n",
    "#### Handle Outliers"
   ]
  },
  {
   "cell_type": "code",
   "execution_count": 18,
   "id": "3ce3ac06",
   "metadata": {},
   "outputs": [],
   "source": [
    "# Remove rows with negative quantity or zero/negative prices\n",
    "df = df[(df['Quantity'] >= 0) & (df['UnitPrice'] > 0)]\n"
   ]
  },
  {
   "cell_type": "markdown",
   "id": "8924cb46",
   "metadata": {},
   "source": [
    "#### Handle Missing Values\n"
   ]
  },
  {
   "cell_type": "code",
   "execution_count": 21,
   "id": "6cbeddba",
   "metadata": {},
   "outputs": [],
   "source": [
    "# Fill missing product names and empty countries\n",
    "df['ProductName'] = df['ProductName'].fillna('Unknown Product')\n",
    "df['Country'] = df['Country'].replace('', 'Unknown')\n",
    "\n",
    "# Remove rows without CustomerID\n",
    "df = df.dropna(subset=['CustomerID'])\n"
   ]
  },
  {
   "cell_type": "markdown",
   "id": "e0ce7e2e",
   "metadata": {},
   "source": [
    "#### Remove Outliers"
   ]
  },
  {
   "cell_type": "code",
   "execution_count": 22,
   "id": "14d604ed",
   "metadata": {},
   "outputs": [],
   "source": [
    "# Remove rows with negative quantity or non-positive prices\n",
    "df = df[(df['Quantity'] >= 0) & (df['UnitPrice'] > 0)]\n"
   ]
  },
  {
   "cell_type": "markdown",
   "id": "e6c58335",
   "metadata": {},
   "source": [
    "#### Calculate Total Sales"
   ]
  },
  {
   "cell_type": "code",
   "execution_count": 23,
   "id": "c472ceb0",
   "metadata": {},
   "outputs": [],
   "source": [
    "# Compute revenue per transaction\n",
    "df['TotalSales'] = df['Quantity'] * df['UnitPrice']\n"
   ]
  },
  {
   "cell_type": "markdown",
   "id": "547b1a60",
   "metadata": {},
   "source": [
    "#### Create Customer Salary"
   ]
  },
  {
   "cell_type": "code",
   "execution_count": 24,
   "id": "35eafd17",
   "metadata": {},
   "outputs": [],
   "source": [
    "# Summarize total purchases per customer\n",
    "customer_summary = df.groupby('CustomerID').agg({\n",
    "    'TotalSales': 'sum',\n",
    "    'Country': 'first'\n",
    "}).reset_index()\n"
   ]
  },
  {
   "cell_type": "markdown",
   "id": "f9d99574",
   "metadata": {},
   "source": [
    "#### Filter Last Year Sales"
   ]
  },
  {
   "cell_type": "code",
   "execution_count": 25,
   "id": "8dfaa6d4",
   "metadata": {},
   "outputs": [],
   "source": [
    "# Keep only sales from Aug 12, 2024 onwards\n",
    "cutoff_date = datetime(2024, 8, 12)\n",
    "df_last_year = df[df['InvoiceDate'] >= cutoff_date]\n"
   ]
  },
  {
   "cell_type": "markdown",
   "id": "0f45325f",
   "metadata": {},
   "source": [
    "#### Check Results"
   ]
  },
  {
   "cell_type": "code",
   "execution_count": 26,
   "id": "cf01f216",
   "metadata": {},
   "outputs": [
    {
     "name": "stdout",
     "output_type": "stream",
     "text": [
      "<class 'pandas.core.frame.DataFrame'>\n",
      "Index: 48 entries, 28 to 960\n",
      "Data columns (total 10 columns):\n",
      " #   Column       Non-Null Count  Dtype         \n",
      "---  ------       --------------  -----         \n",
      " 0   InvoiceNo    48 non-null     object        \n",
      " 1   ProductID    48 non-null     object        \n",
      " 2   ProductName  48 non-null     object        \n",
      " 3   Category     48 non-null     object        \n",
      " 4   Quantity     48 non-null     float64       \n",
      " 5   UnitPrice    48 non-null     float64       \n",
      " 6   InvoiceDate  48 non-null     datetime64[ns]\n",
      " 7   CustomerID   48 non-null     float64       \n",
      " 8   Country      48 non-null     object        \n",
      " 9   TotalSales   48 non-null     float64       \n",
      "dtypes: datetime64[ns](1), float64(4), object(5)\n",
      "memory usage: 4.1+ KB\n"
     ]
    },
    {
     "data": {
      "application/vnd.microsoft.datawrangler.viewer.v0+json": {
       "columns": [
        {
         "name": "index",
         "rawType": "int64",
         "type": "integer"
        },
        {
         "name": "CustomerID",
         "rawType": "float64",
         "type": "float"
        },
        {
         "name": "TotalSales",
         "rawType": "float64",
         "type": "float"
        },
        {
         "name": "Country",
         "rawType": "object",
         "type": "string"
        }
       ],
       "ref": "5c92adfa-11dc-44c8-aa33-89117e351705",
       "rows": [
        [
         "0",
         "3.0",
         "570.28",
         "Thailand"
        ],
        [
         "1",
         "4.0",
         "3887.2400000000002",
         "Bulgaria"
        ],
        [
         "2",
         "6.0",
         "1579.6",
         "Tokelau"
        ],
        [
         "3",
         "8.0",
         "1892.6399999999999",
         "Marshall Islands"
        ],
        [
         "4",
         "9.0",
         "253.32",
         "Gabon"
        ]
       ],
       "shape": {
        "columns": 3,
        "rows": 5
       }
      },
      "text/html": [
       "<div>\n",
       "<style scoped>\n",
       "    .dataframe tbody tr th:only-of-type {\n",
       "        vertical-align: middle;\n",
       "    }\n",
       "\n",
       "    .dataframe tbody tr th {\n",
       "        vertical-align: top;\n",
       "    }\n",
       "\n",
       "    .dataframe thead th {\n",
       "        text-align: right;\n",
       "    }\n",
       "</style>\n",
       "<table border=\"1\" class=\"dataframe\">\n",
       "  <thead>\n",
       "    <tr style=\"text-align: right;\">\n",
       "      <th></th>\n",
       "      <th>CustomerID</th>\n",
       "      <th>TotalSales</th>\n",
       "      <th>Country</th>\n",
       "    </tr>\n",
       "  </thead>\n",
       "  <tbody>\n",
       "    <tr>\n",
       "      <th>0</th>\n",
       "      <td>3.0</td>\n",
       "      <td>570.28</td>\n",
       "      <td>Thailand</td>\n",
       "    </tr>\n",
       "    <tr>\n",
       "      <th>1</th>\n",
       "      <td>4.0</td>\n",
       "      <td>3887.24</td>\n",
       "      <td>Bulgaria</td>\n",
       "    </tr>\n",
       "    <tr>\n",
       "      <th>2</th>\n",
       "      <td>6.0</td>\n",
       "      <td>1579.60</td>\n",
       "      <td>Tokelau</td>\n",
       "    </tr>\n",
       "    <tr>\n",
       "      <th>3</th>\n",
       "      <td>8.0</td>\n",
       "      <td>1892.64</td>\n",
       "      <td>Marshall Islands</td>\n",
       "    </tr>\n",
       "    <tr>\n",
       "      <th>4</th>\n",
       "      <td>9.0</td>\n",
       "      <td>253.32</td>\n",
       "      <td>Gabon</td>\n",
       "    </tr>\n",
       "  </tbody>\n",
       "</table>\n",
       "</div>"
      ],
      "text/plain": [
       "   CustomerID  TotalSales           Country\n",
       "0         3.0      570.28          Thailand\n",
       "1         4.0     3887.24          Bulgaria\n",
       "2         6.0     1579.60           Tokelau\n",
       "3         8.0     1892.64  Marshall Islands\n",
       "4         9.0      253.32             Gabon"
      ]
     },
     "execution_count": 26,
     "metadata": {},
     "output_type": "execute_result"
    }
   ],
   "source": [
    "df_last_year.info()           # Info about filtered dataset\n",
    "customer_summary.head()       # First few rows of customer summary\n"
   ]
  },
  {
   "cell_type": "markdown",
   "id": "79228495",
   "metadata": {},
   "source": [
    "### Loading\n",
    "\n",
    "#### Connect to SQLite"
   ]
  },
  {
   "cell_type": "code",
   "execution_count": 41,
   "id": "35e2919d",
   "metadata": {},
   "outputs": [],
   "source": [
    "import sqlite3\n",
    "\n",
    "conn = sqlite3.connect(\"retail_dw.db\")\n",
    "cursor = conn.cursor()\n"
   ]
  },
  {
   "cell_type": "markdown",
   "id": "45984a3c",
   "metadata": {},
   "source": [
    "#### Create Dimension and Fact Table"
   ]
  },
  {
   "cell_type": "code",
   "execution_count": 42,
   "id": "dc1e2ab3",
   "metadata": {},
   "outputs": [
    {
     "name": "stdout",
     "output_type": "stream",
     "text": [
      "Tables created successfully!\n"
     ]
    }
   ],
   "source": [
    "# Create Customer, Time, Product dimensions and SalesFact table\n",
    "cursor.execute(\"\"\"\n",
    "CREATE TABLE IF NOT EXISTS CustomerDim (\n",
    "    CustomerPK INTEGER PRIMARY KEY,\n",
    "    CustomerCode TEXT,\n",
    "    Country TEXT\n",
    ")\n",
    "\"\"\")\n",
    "\n",
    "cursor.execute(\"\"\"\n",
    "CREATE TABLE IF NOT EXISTS TimeDim (\n",
    "    TimePK INTEGER PRIMARY KEY,\n",
    "    InvoiceDate TEXT,\n",
    "    Year INTEGER,\n",
    "    Month INTEGER,\n",
    "    Day INTEGER\n",
    ")\n",
    "\"\"\")\n",
    "\n",
    "cursor.execute(\"\"\"\n",
    "CREATE TABLE IF NOT EXISTS ProductDim (\n",
    "    ProductPK INTEGER PRIMARY KEY,\n",
    "    ProductID TEXT,\n",
    "    ProductName TEXT,\n",
    "    Category TEXT\n",
    ")\n",
    "\"\"\")\n",
    "\n",
    "cursor.execute(\"\"\"\n",
    "CREATE TABLE IF NOT EXISTS SalesFact (\n",
    "    InvoiceNo TEXT PRIMARY KEY,\n",
    "    TimePK INTEGER,\n",
    "    ProductPK INTEGER,\n",
    "    CustomerPK INTEGER,\n",
    "    Quantity INTEGER,\n",
    "    UnitPrice REAL,\n",
    "    TotalSales REAL,\n",
    "    FOREIGN KEY(CustomerPK) REFERENCES CustomerDim(CustomerPK),\n",
    "    FOREIGN KEY(ProductPK) REFERENCES ProductDim(ProductPK),\n",
    "    FOREIGN KEY(TimePK) REFERENCES TimeDim(TimePK)\n",
    ")\n",
    "\"\"\")\n",
    "\n",
    "conn.commit()\n",
    "print(\"Tables created successfully!\")\n"
   ]
  },
  {
   "cell_type": "markdown",
   "id": "34d3ec9e",
   "metadata": {},
   "source": [
    "#### Prepare Dimension Data"
   ]
  },
  {
   "cell_type": "code",
   "execution_count": 43,
   "id": "e2d301ee",
   "metadata": {},
   "outputs": [
    {
     "name": "stdout",
     "output_type": "stream",
     "text": [
      "ProductDim loaded: 12 rows\n"
     ]
    },
    {
     "data": {
      "application/vnd.microsoft.datawrangler.viewer.v0+json": {
       "columns": [
        {
         "name": "index",
         "rawType": "int64",
         "type": "integer"
        },
        {
         "name": "ProductID",
         "rawType": "object",
         "type": "string"
        },
        {
         "name": "ProductName",
         "rawType": "object",
         "type": "string"
        },
        {
         "name": "Category",
         "rawType": "object",
         "type": "string"
        },
        {
         "name": "ProductPK",
         "rawType": "int64",
         "type": "integer"
        }
       ],
       "ref": "7b511695-3f85-40fd-ae6a-8c321e7bd61c",
       "rows": [
        [
         "0",
         "E102",
         "Smartphone Tripod",
         "Electronics",
         "1"
        ],
        [
         "1",
         "H303",
         "Floor Rug",
         "Home Decor",
         "2"
        ],
        [
         "2",
         "T401",
         "Lego Set",
         "Toys",
         "3"
        ],
        [
         "3",
         "C202",
         "Sports Socks",
         "Clothing",
         "4"
        ],
        [
         "4",
         "T403",
         "Stuffed Bear",
         "Toys",
         "5"
        ]
       ],
       "shape": {
        "columns": 4,
        "rows": 5
       }
      },
      "text/html": [
       "<div>\n",
       "<style scoped>\n",
       "    .dataframe tbody tr th:only-of-type {\n",
       "        vertical-align: middle;\n",
       "    }\n",
       "\n",
       "    .dataframe tbody tr th {\n",
       "        vertical-align: top;\n",
       "    }\n",
       "\n",
       "    .dataframe thead th {\n",
       "        text-align: right;\n",
       "    }\n",
       "</style>\n",
       "<table border=\"1\" class=\"dataframe\">\n",
       "  <thead>\n",
       "    <tr style=\"text-align: right;\">\n",
       "      <th></th>\n",
       "      <th>ProductID</th>\n",
       "      <th>ProductName</th>\n",
       "      <th>Category</th>\n",
       "      <th>ProductPK</th>\n",
       "    </tr>\n",
       "  </thead>\n",
       "  <tbody>\n",
       "    <tr>\n",
       "      <th>0</th>\n",
       "      <td>E102</td>\n",
       "      <td>Smartphone Tripod</td>\n",
       "      <td>Electronics</td>\n",
       "      <td>1</td>\n",
       "    </tr>\n",
       "    <tr>\n",
       "      <th>1</th>\n",
       "      <td>H303</td>\n",
       "      <td>Floor Rug</td>\n",
       "      <td>Home Decor</td>\n",
       "      <td>2</td>\n",
       "    </tr>\n",
       "    <tr>\n",
       "      <th>2</th>\n",
       "      <td>T401</td>\n",
       "      <td>Lego Set</td>\n",
       "      <td>Toys</td>\n",
       "      <td>3</td>\n",
       "    </tr>\n",
       "    <tr>\n",
       "      <th>3</th>\n",
       "      <td>C202</td>\n",
       "      <td>Sports Socks</td>\n",
       "      <td>Clothing</td>\n",
       "      <td>4</td>\n",
       "    </tr>\n",
       "    <tr>\n",
       "      <th>4</th>\n",
       "      <td>T403</td>\n",
       "      <td>Stuffed Bear</td>\n",
       "      <td>Toys</td>\n",
       "      <td>5</td>\n",
       "    </tr>\n",
       "  </tbody>\n",
       "</table>\n",
       "</div>"
      ],
      "text/plain": [
       "  ProductID        ProductName     Category  ProductPK\n",
       "0      E102  Smartphone Tripod  Electronics          1\n",
       "1      H303          Floor Rug   Home Decor          2\n",
       "2      T401           Lego Set         Toys          3\n",
       "3      C202       Sports Socks     Clothing          4\n",
       "4      T403       Stuffed Bear         Toys          5"
      ]
     },
     "metadata": {},
     "output_type": "display_data"
    }
   ],
   "source": [
    "# Customer dimension\n",
    "df_customer = df_last_year[['CustomerID', 'Country']].drop_duplicates().reset_index(drop=True)\n",
    "df_customer['CustomerPK'] = df_customer.index + 1  # Primary key\n",
    "df_customer.to_sql('CustomerDim', conn, if_exists='replace', index=False)\n",
    "\n",
    "# Time dimension\n",
    "df_time = df_last_year[['InvoiceDate']].drop_duplicates().reset_index(drop=True)\n",
    "df_time['TimePK'] = df_time.index + 1\n",
    "df_time['Year'] = df_time['InvoiceDate'].dt.year\n",
    "df_time['Month'] = df_time['InvoiceDate'].dt.month\n",
    "df_time['Day'] = df_time['InvoiceDate'].dt.day\n",
    "df_time.to_sql('TimeDim', conn, if_exists='replace', index=False)\n",
    "\n",
    "# Product dimension\n",
    "df_product = df_last_year[['ProductID','ProductName','Category']].drop_duplicates().reset_index(drop=True)\n",
    "df_product['ProductPK'] = df_product.index + 1\n",
    "df_product.to_sql('ProductDim', conn, if_exists='replace', index=False)\n",
    "print(f\"ProductDim loaded: {len(df_product)} rows\")\n",
    "display(df_product.head())\n"
   ]
  },
  {
   "cell_type": "markdown",
   "id": "c44c5c7d",
   "metadata": {},
   "source": [
    "#### Prepare and Load Fact Table"
   ]
  },
  {
   "cell_type": "code",
   "execution_count": 44,
   "id": "ec80aa0f",
   "metadata": {},
   "outputs": [
    {
     "name": "stdout",
     "output_type": "stream",
     "text": [
      "FactSales loaded: 66 rows\n"
     ]
    },
    {
     "data": {
      "application/vnd.microsoft.datawrangler.viewer.v0+json": {
       "columns": [
        {
         "name": "index",
         "rawType": "int64",
         "type": "integer"
        },
        {
         "name": "InvoiceNo",
         "rawType": "object",
         "type": "string"
        },
        {
         "name": "TimePK",
         "rawType": "int64",
         "type": "integer"
        },
        {
         "name": "ProductPK",
         "rawType": "int64",
         "type": "integer"
        },
        {
         "name": "CustomerPK",
         "rawType": "int64",
         "type": "integer"
        },
        {
         "name": "Quantity",
         "rawType": "float64",
         "type": "float"
        },
        {
         "name": "UnitPrice",
         "rawType": "float64",
         "type": "float"
        },
        {
         "name": "TotalSales",
         "rawType": "float64",
         "type": "float"
        }
       ],
       "ref": "e732bbcf-c2ec-4b0d-a4ab-5e51ba50b17c",
       "rows": [
        [
         "0",
         "6097536c-f044-4427-8497-b0339e47baa1",
         "1",
         "1",
         "1",
         "19.0",
         "175.78",
         "3339.82"
        ],
        [
         "1",
         "6097536c-f044-4427-8497-b0339e47baa1",
         "1",
         "1",
         "25",
         "19.0",
         "175.78",
         "3339.82"
        ],
        [
         "2",
         "15e55b70-f7ea-4301-8097-03cc4ac5d802",
         "2",
         "1",
         "2",
         "5.0",
         "251.21",
         "1256.05"
        ],
        [
         "3",
         "15e55b70-f7ea-4301-8097-03cc4ac5d802",
         "2",
         "1",
         "7",
         "5.0",
         "251.21",
         "1256.05"
        ],
        [
         "4",
         "2194f7fc-74e4-4f8e-9d76-ee968053e2ac",
         "3",
         "2",
         "3",
         "5.0",
         "118.0",
         "590.0"
        ]
       ],
       "shape": {
        "columns": 7,
        "rows": 5
       }
      },
      "text/html": [
       "<div>\n",
       "<style scoped>\n",
       "    .dataframe tbody tr th:only-of-type {\n",
       "        vertical-align: middle;\n",
       "    }\n",
       "\n",
       "    .dataframe tbody tr th {\n",
       "        vertical-align: top;\n",
       "    }\n",
       "\n",
       "    .dataframe thead th {\n",
       "        text-align: right;\n",
       "    }\n",
       "</style>\n",
       "<table border=\"1\" class=\"dataframe\">\n",
       "  <thead>\n",
       "    <tr style=\"text-align: right;\">\n",
       "      <th></th>\n",
       "      <th>InvoiceNo</th>\n",
       "      <th>TimePK</th>\n",
       "      <th>ProductPK</th>\n",
       "      <th>CustomerPK</th>\n",
       "      <th>Quantity</th>\n",
       "      <th>UnitPrice</th>\n",
       "      <th>TotalSales</th>\n",
       "    </tr>\n",
       "  </thead>\n",
       "  <tbody>\n",
       "    <tr>\n",
       "      <th>0</th>\n",
       "      <td>6097536c-f044-4427-8497-b0339e47baa1</td>\n",
       "      <td>1</td>\n",
       "      <td>1</td>\n",
       "      <td>1</td>\n",
       "      <td>19.0</td>\n",
       "      <td>175.78</td>\n",
       "      <td>3339.82</td>\n",
       "    </tr>\n",
       "    <tr>\n",
       "      <th>1</th>\n",
       "      <td>6097536c-f044-4427-8497-b0339e47baa1</td>\n",
       "      <td>1</td>\n",
       "      <td>1</td>\n",
       "      <td>25</td>\n",
       "      <td>19.0</td>\n",
       "      <td>175.78</td>\n",
       "      <td>3339.82</td>\n",
       "    </tr>\n",
       "    <tr>\n",
       "      <th>2</th>\n",
       "      <td>15e55b70-f7ea-4301-8097-03cc4ac5d802</td>\n",
       "      <td>2</td>\n",
       "      <td>1</td>\n",
       "      <td>2</td>\n",
       "      <td>5.0</td>\n",
       "      <td>251.21</td>\n",
       "      <td>1256.05</td>\n",
       "    </tr>\n",
       "    <tr>\n",
       "      <th>3</th>\n",
       "      <td>15e55b70-f7ea-4301-8097-03cc4ac5d802</td>\n",
       "      <td>2</td>\n",
       "      <td>1</td>\n",
       "      <td>7</td>\n",
       "      <td>5.0</td>\n",
       "      <td>251.21</td>\n",
       "      <td>1256.05</td>\n",
       "    </tr>\n",
       "    <tr>\n",
       "      <th>4</th>\n",
       "      <td>2194f7fc-74e4-4f8e-9d76-ee968053e2ac</td>\n",
       "      <td>3</td>\n",
       "      <td>2</td>\n",
       "      <td>3</td>\n",
       "      <td>5.0</td>\n",
       "      <td>118.00</td>\n",
       "      <td>590.00</td>\n",
       "    </tr>\n",
       "  </tbody>\n",
       "</table>\n",
       "</div>"
      ],
      "text/plain": [
       "                              InvoiceNo  TimePK  ProductPK  CustomerPK  \\\n",
       "0  6097536c-f044-4427-8497-b0339e47baa1       1          1           1   \n",
       "1  6097536c-f044-4427-8497-b0339e47baa1       1          1          25   \n",
       "2  15e55b70-f7ea-4301-8097-03cc4ac5d802       2          1           2   \n",
       "3  15e55b70-f7ea-4301-8097-03cc4ac5d802       2          1           7   \n",
       "4  2194f7fc-74e4-4f8e-9d76-ee968053e2ac       3          2           3   \n",
       "\n",
       "   Quantity  UnitPrice  TotalSales  \n",
       "0      19.0     175.78     3339.82  \n",
       "1      19.0     175.78     3339.82  \n",
       "2       5.0     251.21     1256.05  \n",
       "3       5.0     251.21     1256.05  \n",
       "4       5.0     118.00      590.00  "
      ]
     },
     "metadata": {},
     "output_type": "display_data"
    }
   ],
   "source": [
    "# Merge dimension keys into fact table\n",
    "df_fact = df_last_year.merge(df_customer, on='CustomerID')\n",
    "df_fact = df_fact.merge(df_time, on='InvoiceDate')\n",
    "df_fact = df_fact.merge(df_product, on=['ProductID','ProductName','Category'])\n",
    "\n",
    "# Calculate TotalSales\n",
    "df_fact['TotalSales'] = df_fact['Quantity'] * df_fact['UnitPrice']\n",
    "\n",
    "# Select and rename columns for SalesFact\n",
    "df_fact_final = df_fact[['InvoiceNo','TimePK','ProductPK','CustomerPK','Quantity','UnitPrice','TotalSales']]\n",
    "df_fact_final.to_sql('SalesFact', conn, if_exists='replace', index=False)\n",
    "\n",
    "# Commit and close connection\n",
    "conn.commit()\n",
    "conn.close()\n",
    "print(f\"FactSales loaded: {len(df_fact_final)} rows\")\n",
    "display(df_fact_final.head())\n"
   ]
  }
 ],
 "metadata": {
  "kernelspec": {
   "display_name": "Python 3",
   "language": "python",
   "name": "python3"
  },
  "language_info": {
   "codemirror_mode": {
    "name": "ipython",
    "version": 3
   },
   "file_extension": ".py",
   "mimetype": "text/x-python",
   "name": "python",
   "nbconvert_exporter": "python",
   "pygments_lexer": "ipython3",
   "version": "3.11.9"
  }
 },
 "nbformat": 4,
 "nbformat_minor": 5
}
