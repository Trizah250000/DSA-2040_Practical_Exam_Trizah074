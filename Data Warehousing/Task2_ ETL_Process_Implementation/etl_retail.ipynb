{
 "cells": [
  {
   "cell_type": "markdown",
   "id": "d05f0915",
   "metadata": {},
   "source": [
    "## ETL RETAIL DATA\n",
    "### 1. EXTRACTION\n",
    "\n",
    "#### Imports and Setting Seeds"
   ]
  },
  {
   "cell_type": "code",
   "execution_count": 200,
   "id": "277e18f7",
   "metadata": {},
   "outputs": [],
   "source": [
    "# ETL RETAIL DATA\n",
    "# 1. EXTRACTION\n",
    "# Imports and Setting Seeds\n",
    "import pandas as pd       # For data manipulation and analysis\n",
    "import numpy as np        # For numerical operations\n",
    "from faker import Faker   # For generating realistic fake data\n",
    "import random             # For randomization\n",
    "from datetime import datetime\n",
    "import sqlite3\n",
    "\n",
    "# Fix the randomness so the output is the same every time the script runs\n",
    "faker = Faker()\n",
    "random.seed(42)"
   ]
  },
  {
   "cell_type": "markdown",
   "id": "2a3b7b2c",
   "metadata": {},
   "source": [
    "#### Configuration and Product Catalog\n"
   ]
  },
  {
   "cell_type": "code",
   "execution_count": 201,
   "id": "adb67b2b",
   "metadata": {},
   "outputs": [],
   "source": [
    "# Configuration and Product Catalog\n",
    "NUM_RECORDS = 1000        # Total rows in dataset\n",
    "START_YEAR = 2023         # Start of date range\n",
    "END_YEAR = 2025           # End of date range\n",
    "\n",
    "products = {\n",
    "    \"Electronics\": [\n",
    "        (\"E101\", \"Bluetooth Speaker\"),\n",
    "        (\"E102\", \"Smartphone Tripod\"),\n",
    "        (\"E103\", \"Noise Cancelling Headphones\")\n",
    "    ],\n",
    "    \"Clothing\": [\n",
    "        (\"C201\", \"Denim Jacket\"),\n",
    "        (\"C202\", \"Sports Socks\"),\n",
    "        (\"C203\", \"Wool Scarf\")\n",
    "    ],\n",
    "    \"Home Decor\": [\n",
    "        (\"H301\", \"Ceramic Mug\"),\n",
    "        (\"H302\", \"Decorative Cushion\"),\n",
    "        (\"H303\", \"Floor Rug\")\n",
    "    ],\n",
    "    \"Toys\": [\n",
    "        (\"T401\", \"Lego Set\"),\n",
    "        (\"T402\", \"RC Car\"),\n",
    "        (\"T403\", \"Stuffed Bear\")\n",
    "    ]\n",
    "}"
   ]
  },
  {
   "cell_type": "markdown",
   "id": "81a94f41",
   "metadata": {},
   "source": [
    "#### Flatten Product List\n",
    "Purpose: Convert the nested products dictionary into a single flat list.\n",
    "\n",
    "Before: Products are stored by category → each category has multiple (code, name) pairs.\n",
    "\n",
    "After: A list where each entry is (ProductCode, ProductName, Category).\n",
    "\n",
    "Why? Makes it easier to randomly select any product without first choosing a category."
   ]
  },
  {
   "cell_type": "code",
   "execution_count": 202,
   "id": "8bfe863e",
   "metadata": {},
   "outputs": [],
   "source": [
    "product_list = [\n",
    "    (code, name, cat)\n",
    "    for cat, items in products.items()\n",
    "    for code, name in items\n",
    "]\n"
   ]
  },
  {
   "cell_type": "markdown",
   "id": "c4bc1928",
   "metadata": {},
   "source": [
    "#### Function to generate a random datetime between two years\n",
    "A small function is made to give a random date between two years. This keeps dates realistic."
   ]
  },
  {
   "cell_type": "code",
   "execution_count": 203,
   "id": "13eaf75e",
   "metadata": {},
   "outputs": [],
   "source": [
    "def random_date(start_year, end_year):\n",
    "    return faker.date_time_between(\n",
    "        start_date=datetime(start_year, 1, 1),   # Earliest date\n",
    "        end_date=datetime(end_year, 8, 12)       # Latest date\n",
    "    )"
   ]
  },
  {
   "cell_type": "markdown",
   "id": "dd17daa1",
   "metadata": {},
   "source": [
    "#### Generate Synthetic Data\n",
    "We loop to create each record. Products, prices, and other details are chosen randomly. Some values are made wrong or missing on purpose to make the dataset messy.It Keeps data realistic but imperfect for transformation practice, mimicking real world messy data."
   ]
  },
  {
   "cell_type": "code",
   "execution_count": 204,
   "id": "ef28ed80",
   "metadata": {},
   "outputs": [],
   "source": [
    "data = []\n",
    "for _ in range(NUM_RECORDS):\n",
    "    pid, pname, category = random.choice(product_list)  # Random product\n",
    "    data.append({\n",
    "        \"InvoiceNo\": faker.uuid4(),  # Unique invoice ID\n",
    "        \"ProductID\": pid,\n",
    "        \"ProductName\": pname if random.random() > 0.02 else None,  # 2% missing\n",
    "        \"Category\": category,\n",
    "        \"Quantity\": random.choice([random.randint(1, 20), None]),  # Missing some\n",
    "        \"UnitPrice\": random.choice([round(random.uniform(5, 300), 2), -10.0]),  # Outlier\n",
    "        \"InvoiceDate\": random_date(START_YEAR, END_YEAR),  # Random date\n",
    "        \"CustomerID\": random.choice([random.randint(1, 100), None]),  # Missing IDs\n",
    "        \"Country\": random.choice([faker.country(), \"\"])  # Empty country\n",
    "    })"
   ]
  },
  {
   "cell_type": "markdown",
   "id": "070e496a",
   "metadata": {},
   "source": [
    "#### Create DataFrame"
   ]
  },
  {
   "cell_type": "code",
   "execution_count": 205,
   "id": "8239c123",
   "metadata": {},
   "outputs": [
    {
     "name": "stdout",
     "output_type": "stream",
     "text": [
      "Extracted 1000 rows to DataFrame\n",
      "Synthetic retail data generated and saved to 'retail_data.csv'.\n"
     ]
    }
   ],
   "source": [
    "# Convert list of dictionaries into a pandas DataFrame\n",
    "df = pd.DataFrame(data)\n",
    "# Changed: Added logging for row count\n",
    "print(f\"Extracted {len(df)} rows to DataFrame\")\n",
    "# Save to CSV\n",
    "df.to_csv(\"retail_data.csv\", index=False)\n",
    "print(\"Synthetic retail data generated and saved to 'retail_data.csv'.\")\n"
   ]
  },
  {
   "cell_type": "markdown",
   "id": "bb4c2c65",
   "metadata": {},
   "source": [
    "### TRANSFORMATION \n",
    "\n",
    "#### Handle missing values"
   ]
  },
  {
   "cell_type": "code",
   "execution_count": 206,
   "id": "6cbeddba",
   "metadata": {},
   "outputs": [
    {
     "name": "stdout",
     "output_type": "stream",
     "text": [
      "After handling missing CustomerID: 493 rows\n"
     ]
    }
   ],
   "source": [
    "# Fill missing product names and empty countries\n",
    "df['ProductName'] = df['ProductName'].fillna('Unknown Product')\n",
    "df['Country'] = df['Country'].replace('', 'Unknown')\n",
    "# Remove rows without CustomerID\n",
    "df = df.dropna(subset=['CustomerID'])\n",
    "# Changed: Added logging\n",
    "print(f\"After handling missing CustomerID: {len(df)} rows\")"
   ]
  },
  {
   "cell_type": "markdown",
   "id": "e0ce7e2e",
   "metadata": {},
   "source": [
    "#### Handle Outliers"
   ]
  },
  {
   "cell_type": "code",
   "execution_count": 207,
   "id": "14d604ed",
   "metadata": {},
   "outputs": [
    {
     "name": "stdout",
     "output_type": "stream",
     "text": [
      "After removing outliers: 116 rows\n"
     ]
    }
   ],
   "source": [
    "# Remove rows with negative quantity or zero/negative prices\n",
    "df = df[(df['Quantity'] >= 0) & (df['UnitPrice'] > 0)]\n",
    "# Changed: Added logging\n",
    "print(f\"After removing outliers: {len(df)} rows\")"
   ]
  },
  {
   "cell_type": "markdown",
   "id": "e6c58335",
   "metadata": {},
   "source": [
    "#### Calculate Total Sales"
   ]
  },
  {
   "cell_type": "code",
   "execution_count": 208,
   "id": "c472ceb0",
   "metadata": {},
   "outputs": [],
   "source": [
    "# Compute revenue per transaction\n",
    "df['TotalSales'] = df['Quantity'] * df['UnitPrice']\n"
   ]
  },
  {
   "cell_type": "markdown",
   "id": "547b1a60",
   "metadata": {},
   "source": [
    "#### Create Customer Salary"
   ]
  },
  {
   "cell_type": "code",
   "execution_count": 209,
   "id": "35eafd17",
   "metadata": {},
   "outputs": [
    {
     "name": "stdout",
     "output_type": "stream",
     "text": [
      "Customer summary created: 64 rows\n"
     ]
    }
   ],
   "source": [
    "# Summarize total purchases per customer\n",
    "customer_summary = df.groupby('CustomerID').agg({\n",
    "    'TotalSales': 'sum',\n",
    "    'Country': 'first'  # Use 'first' to assign one country per customer\n",
    "}).reset_index()\n",
    "# Changed: Added logging\n",
    "print(f\"Customer summary created: {len(customer_summary)} rows\")"
   ]
  },
  {
   "cell_type": "markdown",
   "id": "f9d99574",
   "metadata": {},
   "source": [
    "#### Filter Last Year Sales"
   ]
  },
  {
   "cell_type": "code",
   "execution_count": 210,
   "id": "8dfaa6d4",
   "metadata": {},
   "outputs": [
    {
     "name": "stdout",
     "output_type": "stream",
     "text": [
      "Filtered to last year: 47 rows\n"
     ]
    }
   ],
   "source": [
    "# Keep only sales from Aug 12, 2024 onwards\n",
    "cutoff_date = datetime(2024, 8, 12)\n",
    "df_last_year = df[df['InvoiceDate'] >= cutoff_date]\n",
    "# Changed: Added logging\n",
    "print(f\"Filtered to last year: {len(df_last_year)} rows\")\n"
   ]
  },
  {
   "cell_type": "markdown",
   "id": "0f45325f",
   "metadata": {},
   "source": [
    "#### Check Results"
   ]
  },
  {
   "cell_type": "code",
   "execution_count": 211,
   "id": "cf01f216",
   "metadata": {},
   "outputs": [
    {
     "name": "stdout",
     "output_type": "stream",
     "text": [
      "<class 'pandas.core.frame.DataFrame'>\n",
      "Index: 47 entries, 0 to 955\n",
      "Data columns (total 10 columns):\n",
      " #   Column       Non-Null Count  Dtype         \n",
      "---  ------       --------------  -----         \n",
      " 0   InvoiceNo    47 non-null     object        \n",
      " 1   ProductID    47 non-null     object        \n",
      " 2   ProductName  47 non-null     object        \n",
      " 3   Category     47 non-null     object        \n",
      " 4   Quantity     47 non-null     float64       \n",
      " 5   UnitPrice    47 non-null     float64       \n",
      " 6   InvoiceDate  47 non-null     datetime64[ns]\n",
      " 7   CustomerID   47 non-null     float64       \n",
      " 8   Country      47 non-null     object        \n",
      " 9   TotalSales   47 non-null     float64       \n",
      "dtypes: datetime64[ns](1), float64(4), object(5)\n",
      "memory usage: 4.0+ KB\n"
     ]
    },
    {
     "data": {
      "application/vnd.microsoft.datawrangler.viewer.v0+json": {
       "columns": [
        {
         "name": "index",
         "rawType": "int64",
         "type": "integer"
        },
        {
         "name": "CustomerID",
         "rawType": "float64",
         "type": "float"
        },
        {
         "name": "TotalSales",
         "rawType": "float64",
         "type": "float"
        },
        {
         "name": "Country",
         "rawType": "object",
         "type": "string"
        }
       ],
       "ref": "53352632-30a8-4e4b-b480-489d04094b3f",
       "rows": [
        [
         "0",
         "3.0",
         "570.28",
         "Liechtenstein"
        ],
        [
         "1",
         "4.0",
         "3887.2400000000002",
         "Vanuatu"
        ],
        [
         "2",
         "6.0",
         "1579.6",
         "Gabon"
        ],
        [
         "3",
         "8.0",
         "1892.6399999999999",
         "Bangladesh"
        ],
        [
         "4",
         "9.0",
         "253.32",
         "United States Minor Outlying Islands"
        ]
       ],
       "shape": {
        "columns": 3,
        "rows": 5
       }
      },
      "text/html": [
       "<div>\n",
       "<style scoped>\n",
       "    .dataframe tbody tr th:only-of-type {\n",
       "        vertical-align: middle;\n",
       "    }\n",
       "\n",
       "    .dataframe tbody tr th {\n",
       "        vertical-align: top;\n",
       "    }\n",
       "\n",
       "    .dataframe thead th {\n",
       "        text-align: right;\n",
       "    }\n",
       "</style>\n",
       "<table border=\"1\" class=\"dataframe\">\n",
       "  <thead>\n",
       "    <tr style=\"text-align: right;\">\n",
       "      <th></th>\n",
       "      <th>CustomerID</th>\n",
       "      <th>TotalSales</th>\n",
       "      <th>Country</th>\n",
       "    </tr>\n",
       "  </thead>\n",
       "  <tbody>\n",
       "    <tr>\n",
       "      <th>0</th>\n",
       "      <td>3.0</td>\n",
       "      <td>570.28</td>\n",
       "      <td>Liechtenstein</td>\n",
       "    </tr>\n",
       "    <tr>\n",
       "      <th>1</th>\n",
       "      <td>4.0</td>\n",
       "      <td>3887.24</td>\n",
       "      <td>Vanuatu</td>\n",
       "    </tr>\n",
       "    <tr>\n",
       "      <th>2</th>\n",
       "      <td>6.0</td>\n",
       "      <td>1579.60</td>\n",
       "      <td>Gabon</td>\n",
       "    </tr>\n",
       "    <tr>\n",
       "      <th>3</th>\n",
       "      <td>8.0</td>\n",
       "      <td>1892.64</td>\n",
       "      <td>Bangladesh</td>\n",
       "    </tr>\n",
       "    <tr>\n",
       "      <th>4</th>\n",
       "      <td>9.0</td>\n",
       "      <td>253.32</td>\n",
       "      <td>United States Minor Outlying Islands</td>\n",
       "    </tr>\n",
       "  </tbody>\n",
       "</table>\n",
       "</div>"
      ],
      "text/plain": [
       "   CustomerID  TotalSales                               Country\n",
       "0         3.0      570.28                         Liechtenstein\n",
       "1         4.0     3887.24                               Vanuatu\n",
       "2         6.0     1579.60                                 Gabon\n",
       "3         8.0     1892.64                            Bangladesh\n",
       "4         9.0      253.32  United States Minor Outlying Islands"
      ]
     },
     "execution_count": 211,
     "metadata": {},
     "output_type": "execute_result"
    }
   ],
   "source": [
    "df_last_year.info()           # Info about filtered dataset\n",
    "customer_summary.head()       # First few rows of customer summary\n"
   ]
  },
  {
   "cell_type": "markdown",
   "id": "79228495",
   "metadata": {},
   "source": [
    "### Loading\n",
    "\n",
    "#### Connect to SQLite"
   ]
  },
  {
   "cell_type": "code",
   "execution_count": 212,
   "id": "35e2919d",
   "metadata": {},
   "outputs": [],
   "source": [
    "import sqlite3\n",
    "\n",
    "conn = sqlite3.connect(\"retail_dw.db\")\n",
    "cursor = conn.cursor()\n"
   ]
  },
  {
   "cell_type": "markdown",
   "id": "45984a3c",
   "metadata": {},
   "source": [
    "#### Create Dimension and Fact Table"
   ]
  },
  {
   "cell_type": "code",
   "execution_count": 213,
   "id": "dc1e2ab3",
   "metadata": {},
   "outputs": [
    {
     "name": "stdout",
     "output_type": "stream",
     "text": [
      "Tables created successfully!\n"
     ]
    }
   ],
   "source": [
    "cursor.execute(\"\"\"\n",
    "CREATE TABLE IF NOT EXISTS CustomerDim (\n",
    "    CustomerPK INTEGER PRIMARY KEY,\n",
    "    CustomerCode TEXT,\n",
    "    Country TEXT\n",
    ")\n",
    "\"\"\")\n",
    "cursor.execute(\"\"\"\n",
    "CREATE TABLE IF NOT EXISTS TimeDim (\n",
    "    TimePK INTEGER PRIMARY KEY,\n",
    "    InvoiceDate TEXT,\n",
    "    Year INTEGER,\n",
    "    Month INTEGER,\n",
    "    Day INTEGER\n",
    ")\n",
    "\"\"\")\n",
    "cursor.execute(\"\"\"\n",
    "CREATE TABLE IF NOT EXISTS ProductDim (\n",
    "    ProductPK INTEGER PRIMARY KEY,\n",
    "    ProductID TEXT,\n",
    "    ProductName TEXT,\n",
    "    Category TEXT\n",
    ")\n",
    "\"\"\")\n",
    "cursor.execute(\"\"\"\n",
    "CREATE TABLE IF NOT EXISTS SalesFact (\n",
    "    InvoiceNo TEXT PRIMARY KEY,\n",
    "    TimePK INTEGER,\n",
    "    ProductPK INTEGER,\n",
    "    CustomerPK INTEGER,\n",
    "    Quantity INTEGER,\n",
    "    UnitPrice REAL,\n",
    "    TotalSales REAL,\n",
    "    FOREIGN KEY(CustomerPK) REFERENCES CustomerDim(CustomerPK),\n",
    "    FOREIGN KEY(ProductPK) REFERENCES ProductDim(ProductPK),\n",
    "    FOREIGN KEY(TimePK) REFERENCES TimeDim(TimePK)\n",
    ")\n",
    "\"\"\")\n",
    "conn.commit()\n",
    "print(\"Tables created successfully!\")"
   ]
  },
  {
   "cell_type": "markdown",
   "id": "34d3ec9e",
   "metadata": {},
   "source": [
    "#### Prepare Dimension Data"
   ]
  },
  {
   "cell_type": "code",
   "execution_count": 214,
   "id": "e2d301ee",
   "metadata": {},
   "outputs": [
    {
     "name": "stdout",
     "output_type": "stream",
     "text": [
      "\n",
      "CustomerDim Preview:\n",
      "   CustomerCode                               Country  CustomerPK\n",
      "0           3.0                         Liechtenstein           1\n",
      "1           4.0                               Vanuatu           2\n",
      "2           6.0                                 Gabon           3\n",
      "3           8.0                            Bangladesh           4\n",
      "4           9.0  United States Minor Outlying Islands           5\n",
      "CustomerDim loaded: 64 rows\n",
      "\n",
      "TimeDim Preview:\n",
      "          InvoiceDate  TimePK  Year  Month  Day\n",
      "0 2025-02-28 02:11:07       1  2025      2   28\n",
      "1 2025-06-01 20:26:35       2  2025      6    1\n",
      "2 2025-05-16 07:33:03       3  2025      5   16\n",
      "3 2025-01-28 20:00:02       4  2025      1   28\n",
      "4 2024-10-19 11:32:08       5  2024     10   19\n",
      "TimeDim loaded: 47 rows\n",
      "\n",
      "ProductDim Preview:\n",
      "  ProductID        ProductName     Category  ProductPK\n",
      "0      T402             RC Car         Toys          1\n",
      "1      T401           Lego Set         Toys          2\n",
      "2      E101  Bluetooth Speaker  Electronics          3\n",
      "3      E102  Smartphone Tripod  Electronics          4\n",
      "4      H303          Floor Rug   Home Decor          5\n",
      "ProductDim loaded: 12 rows\n"
     ]
    }
   ],
   "source": [
    "df_customer = customer_summary[['CustomerID', 'Country']].rename(columns={'CustomerID': 'CustomerCode'})\n",
    "df_customer['CustomerPK'] = df_customer.index + 1  # Primary key\n",
    "print(\"\\nCustomerDim Preview:\")\n",
    "print(df_customer.head())\n",
    "df_customer.to_sql('CustomerDim', conn, if_exists='replace', index=False)\n",
    "print(f\"CustomerDim loaded: {len(df_customer)} rows\")\n",
    "\n",
    "# Time Dimension\n",
    "df_time = df_last_year[['InvoiceDate']].drop_duplicates().reset_index(drop=True)\n",
    "df_time['TimePK'] = df_time.index + 1\n",
    "df_time['Year'] = df_time['InvoiceDate'].dt.year\n",
    "df_time['Month'] = df_time['InvoiceDate'].dt.month\n",
    "df_time['Day'] = df_time['InvoiceDate'].dt.day\n",
    "print(\"\\nTimeDim Preview:\")\n",
    "print(df_time.head())\n",
    "df_time.to_sql('TimeDim', conn, if_exists='replace', index=False)\n",
    "print(f\"TimeDim loaded: {len(df_time)} rows\")\n",
    "\n",
    "# Product Dimension\n",
    "df_product = df_last_year[['ProductID', 'ProductName', 'Category']].drop_duplicates().reset_index(drop=True)\n",
    "df_product['ProductPK'] = df_product.index + 1\n",
    "print(\"\\nProductDim Preview:\")\n",
    "print(df_product.head())\n",
    "df_product.to_sql('ProductDim', conn, if_exists='replace', index=False)\n",
    "print(f\"ProductDim loaded: {len(df_product)} rows\")\n",
    "\n",
    "\n"
   ]
  },
  {
   "cell_type": "markdown",
   "id": "c44c5c7d",
   "metadata": {},
   "source": [
    "#### Prepare and Load Fact Table"
   ]
  },
  {
   "cell_type": "code",
   "execution_count": 215,
   "id": "ec80aa0f",
   "metadata": {},
   "outputs": [
    {
     "name": "stdout",
     "output_type": "stream",
     "text": [
      "\n",
      "SalesFact Preview:\n",
      "                              InvoiceNo  TimePK  ProductPK  CustomerPK  \\\n",
      "0  4173d89e-4c62-47c3-aff5-f6377f307a54       1          1          55   \n",
      "1  c9d444c2-72e6-41f1-8be0-c0b6e60bdfe4       2          2          61   \n",
      "2  e78db86a-5dff-494e-8a2e-a5bd3b00cad4       3          3          55   \n",
      "3  29d25e11-50d4-4b2e-b3a1-dcce0190ec2c       4          4          33   \n",
      "4  c0ba7fbf-fecf-4f29-9b40-4c7ab73c8c20       5          5          58   \n",
      "\n",
      "   Quantity  UnitPrice  TotalSales  \n",
      "0         9      70.85      637.65  \n",
      "1         8     155.31     1242.48  \n",
      "2         3      25.21       75.63  \n",
      "3         5     251.21     1256.05  \n",
      "4         5     118.00      590.00  \n",
      "SalesFact loaded: 47 rows\n",
      "\n",
      "ETL process completed successfully\n"
     ]
    }
   ],
   "source": [
    "# Prepare and Load Fact Table\n",
    "# Merge dimension keys into fact table\n",
    "df_fact = df_last_year.merge(df_customer, left_on='CustomerID', right_on='CustomerCode')\n",
    "df_fact = df_fact.merge(df_time, on='InvoiceDate')\n",
    "df_fact = df_fact.merge(df_product, on=['ProductID', 'ProductName', 'Category'])\n",
    "# Calculate TotalSales\n",
    "df_fact['TotalSales'] = df_fact['Quantity'] * df_fact['UnitPrice']\n",
    "# Changed: Cast Quantity to int for SalesFact schema\n",
    "df_fact['Quantity'] = df_fact['Quantity'].astype(int)\n",
    "# Select and rename columns for SalesFact\n",
    "df_fact_final = df_fact[['InvoiceNo', 'TimePK', 'ProductPK', 'CustomerPK', 'Quantity', 'UnitPrice', 'TotalSales']]\n",
    "print(\"\\nSalesFact Preview:\")\n",
    "print(df_fact_final.head())\n",
    "df_fact_final.to_sql('SalesFact', conn, if_exists='replace', index=False)\n",
    "# Added logging\n",
    "print(f\"SalesFact loaded: {len(df_fact_final)} rows\")\n",
    "\n",
    "# Commit and close connection\n",
    "conn.commit()\n",
    "conn.close()\n",
    "print(\"\\nETL process completed successfully\")\n",
    "\n"
   ]
  }
 ],
 "metadata": {
  "kernelspec": {
   "display_name": "Python 3",
   "language": "python",
   "name": "python3"
  },
  "language_info": {
   "codemirror_mode": {
    "name": "ipython",
    "version": 3
   },
   "file_extension": ".py",
   "mimetype": "text/x-python",
   "name": "python",
   "nbconvert_exporter": "python",
   "pygments_lexer": "ipython3",
   "version": "3.11.9"
  }
 },
 "nbformat": 4,
 "nbformat_minor": 5
}
